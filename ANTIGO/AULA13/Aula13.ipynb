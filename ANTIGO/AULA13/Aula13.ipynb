{
 "cells": [
  {
   "cell_type": "markdown",
   "id": "f62ded59",
   "metadata": {},
   "source": [
    "### Aula 13 -  Revisão"
   ]
  },
  {
   "cell_type": "markdown",
   "id": "8a630554",
   "metadata": {},
   "source": [
    "Nesta aula iremos **revisar SQL** e fixar os conteúdos aprendidos nas últimas aulas.\n",
    "\n",
    "## Como resolver os exercícios?\n",
    "\n",
    "Indicamos que resolva em sua máquina. Utilize o MySQL Workbench ou o conector para testar as queries. Quando estiver bastante certo de que a resposta está correta, anexe no notebook a resposta / imagem de resposta (quando solicitado imagem).\n",
    "\n",
    "## Import das bibliotecas\n",
    "\n",
    "Vamos importar as bibliotecas."
   ]
  },
  {
   "cell_type": "code",
   "execution_count": 11,
   "id": "b2f1597a",
   "metadata": {},
   "outputs": [],
   "source": [
    "import mysql.connector\n",
    "from functools import partial\n",
    "import os\n",
    "from dotenv import load_dotenv"
   ]
  },
  {
   "cell_type": "markdown",
   "id": "33eefa0d",
   "metadata": {},
   "source": [
    "E vamos criar nosso HELPER de conexão com o banco! Perceba que, uma vez configurado o `.env` não precisaremos mais informar usuários, senhas e URLs!"
   ]
  },
  {
   "cell_type": "code",
   "execution_count": 26,
   "id": "f5147533",
   "metadata": {},
   "outputs": [],
   "source": [
    "from functools import partial\n",
    "import mysql.connector\n",
    "\n",
    "connection = mysql.connector.connect(\n",
    "    host='localhost',\n",
    "    user='root',\n",
    "    password='megadados',\n",
    "    database='XPTO',\n",
    "    sql_mode='only_full_group_by',\n",
    ")\n",
    "\n",
    "\n",
    "def run_db_query(connection, query, args=None):\n",
    "    with connection.cursor() as cursor:\n",
    "        print('Executando query:')\n",
    "        cursor.execute(query, args)\n",
    "        for result in cursor:\n",
    "            print(result)\n",
    "\n",
    "\n",
    "db = partial(run_db_query, connection)"
   ]
  },
  {
   "cell_type": "markdown",
   "id": "1b7c8d46",
   "metadata": {},
   "source": [
    "## Exercícios de revisão - Megadados\n",
    "\n",
    "Uma pizzaria quer informatizar seu cardápio para controlar melhor as pizzas que oferece. O diagrama do modelo relacional mostrado abaixo demonstra a estrutura da informação que se deseja armazenar e consultar:\n",
    "\n",
    "<img src=\"img/modelo_relacional.png\">\n",
    "\n",
    "- Tabela “tipo”: armazena os nomes dos tipos de ingrediente de pizza: vegano, sem gluten, sem lactose, vegetariano, etc.\n",
    "  - Campo “tipo”: o nome do tipo\n",
    "- Tabela “ingrediente”: armazena informações à respeito dos ingredientes de pizza.\n",
    "  - Campo “ingrediente”: o nome do ingrediente\n",
    "  - Campo “preco_unitario”: o custo do ingrediente por unidade\n",
    "- Tabela “ingredientetipo”: relaciona os ingredientes de pizza com seus tipos. Por exemplo: brócoli é vegano, vegetariano, sem lactose e sem glutem, logo aparece quatro vezes nesta tabela.\n",
    "  - Campo “ingrediente”: chave estrangeira para a tabela “ingrediente”\n",
    "  - Campo “tipo”: chave estrangeira para a tabela “tipo”\n",
    "- Tabela “pizza”: O cardápio da pizzaria\n",
    "  - Campo “pizza”: o nome da pizza\n",
    "  - Campo “preco”: o valor de venda da pizza\n",
    "- Tabela “ingredientepizza”: mostra como cada pizza é feita\n",
    "  - Campo “ingrediente”: chave estrangeira para a tabela de ingredientes\n",
    "  - Campo “pizza”: chave estrangeira para a tabela de pizzas\n",
    "  - Campo “quantidade”: quantas unidades deste ingrediente fazem parte desta pizza\n",
    "\n",
    "O script `script_001.sql` contem a DDL para criação do banco de dados e também a DML para inserção de alguns valores de exemplo, para ajudar vocês a responder as questões da prova. Se quiser, adicione exemplos à vontade. Nas perguntas a seguir construa código SQL para cumprir o que se pede."
   ]
  },
  {
   "cell_type": "markdown",
   "id": "c167b70e",
   "metadata": {},
   "source": [
    "**Exercício 1**: Liste as 3 pizzas que dão mais lucro. O lucro de uma pizza é o seu preço de venda menos o custo total dos ingredientes nela utilizados (não se esqueça de que cada ingrediente da pizza tem uma especificação de quantidade a ser utilizada)."
   ]
  },
  {
   "cell_type": "code",
   "execution_count": 51,
   "id": "5dd553d8",
   "metadata": {},
   "outputs": [
    {
     "name": "stdout",
     "output_type": "stream",
     "text": [
      "Executando query:\n",
      "('incoerente', 193.0)\n",
      "('incoerente', 190.0)\n",
      "('incoerente', 180.0)\n"
     ]
    }
   ],
   "source": [
    "sql_ex1 = '''\n",
    "SELECT\n",
    "    p.pizza, \n",
    "    (p.preco - (ip.quantidade * i.preco_unitario) ) AS lucro\n",
    "FROM \n",
    "    pizza p INNER JOIN ingredientePizza ip ON p.pizza = ip.pizza\n",
    "    INNER JOIN ingrediente i on ip.ingrediente = i.ingrediente\n",
    "    \n",
    "\n",
    "ORDER BY lucro DESC\n",
    "\n",
    "LIMIT 3\n",
    "    \n",
    "'''\n",
    "db(sql_ex1)"
   ]
  },
  {
   "cell_type": "markdown",
   "id": "6f417438",
   "metadata": {},
   "source": [
    "**Exercício 2**: Construa uma tabela temporária que liste todas as pizzas e a quantidade de ingredientes nela."
   ]
  },
  {
   "cell_type": "code",
   "execution_count": 76,
   "id": "1dedb525",
   "metadata": {},
   "outputs": [
    {
     "name": "stdout",
     "output_type": "stream",
     "text": [
      "Executando query:\n",
      "('calabresa', 2)\n",
      "('incoerente', 4)\n",
      "('legumes', 2)\n",
      "('mussarela', 2)\n",
      "('pão', 1)\n"
     ]
    }
   ],
   "source": [
    "sql_ex2 = '''\n",
    "\n",
    "    SELECT \n",
    "        p.pizza,\n",
    "        COUNT(ip.quantidade) AS quantidade\n",
    "\n",
    "    FROM \n",
    "        pizza p INNER JOIN ingredientePizza ip ON p.pizza = ip.pizza\n",
    "\n",
    "\n",
    "    GROUP BY\n",
    "        p.pizza\n",
    "'''\n",
    "\n",
    "db(sql_ex2)"
   ]
  },
  {
   "cell_type": "markdown",
   "id": "16515654",
   "metadata": {},
   "source": [
    "**Exercício 3**: Construa uma tabela temporária que liste todas as pizzas a quantidade de ingredientes veganos nela (ou seja, onde o tipo é “vegana”)."
   ]
  },
  {
   "cell_type": "code",
   "execution_count": 81,
   "id": "64b115a9",
   "metadata": {},
   "outputs": [
    {
     "name": "stdout",
     "output_type": "stream",
     "text": [
      "Executando query:\n",
      "('legumes', 2)\n",
      "('incoerente', 2)\n"
     ]
    }
   ],
   "source": [
    "sql_ex3 = '''\n",
    "SELECT \n",
    "    p.pizza, COUNT(ip.quantidade) AS quantidade\n",
    "FROM \n",
    "    pizza p INNER JOIN ingredientePizza ip ON p.pizza = ip.pizza\n",
    "    INNER JOIN ingrediente i ON ip.ingrediente = i.ingrediente\n",
    "    INNER JOIN ingredienteTipo it ON i.ingrediente =  it.ingrediente\n",
    "    INNER JOIN tipo t ON it.tipo = t.tipo\n",
    "\n",
    "WHERE\n",
    "    t.tipo = \"vegana\"\n",
    "\n",
    "\n",
    "GROUP BY\n",
    "\n",
    "    p.pizza\n",
    "\n",
    "\n",
    "'''\n",
    "db(sql_ex3)"
   ]
  },
  {
   "cell_type": "markdown",
   "id": "ed05df63",
   "metadata": {},
   "source": [
    "**Exercício 4**: Usando as tabelas temporárias dos itens (b) e (c) – mesmo que você não os tenha feito – liste as pizzas veganas da pizzaria. Uma pizza é vegana se todos os seus ingredientes são veganos."
   ]
  },
  {
   "cell_type": "code",
   "execution_count": 20,
   "id": "0ee06f32",
   "metadata": {},
   "outputs": [],
   "source": [
    "sql_ex4 = '''\n",
    "SELECT p.pizza\n",
    "    from pizza p join ingredientePizza ip on p.pizza = ip.pizza\n",
    "    join ingrediente i on ip.ingrediente = i.ingrediente\n",
    "    join ingredienteTipo it on i.ingrediente = it.ingrediente\n",
    "    join tipo t on it.tipo = t.tipo\n",
    "    where t.tipo = 'vegana'\n",
    "'''"
   ]
  },
  {
   "cell_type": "code",
   "execution_count": 21,
   "id": "9408d918",
   "metadata": {},
   "outputs": [
    {
     "name": "stdout",
     "output_type": "stream",
     "text": [
      "Executando query:\n",
      "('legumes',)\n",
      "('incoerente',)\n",
      "('legumes',)\n",
      "('incoerente',)\n"
     ]
    }
   ],
   "source": [
    "db(sql_ex4)"
   ]
  },
  {
   "cell_type": "markdown",
   "id": "42518d1a",
   "metadata": {},
   "source": [
    "**Exercício 5**: Liste os ingredientes e seus tipos, um ingrediente por linha (Dica: use a função GROUP_CONCAT). O resultado deve ser da seguinte forma:\n",
    "\n",
    "<img src=\"img/group_concat.png\">\n"
   ]
  },
  {
   "cell_type": "code",
   "execution_count": 22,
   "id": "db840305",
   "metadata": {},
   "outputs": [],
   "source": [
    "sql_ex5 = '''\n",
    "SELECT i.ingrediente, GROUP_CONCAT(t.tipo)\n",
    "from pizza p join ingredientePizza ip on p.pizza = ip.pizza\n",
    "join ingrediente i on ip.ingrediente = i.ingrediente\n",
    "join ingredienteTipo it on i.ingrediente = it.ingrediente\n",
    "join tipo t on it.tipo = t.tipo\n",
    "GROUP BY i.ingrediente\n",
    "'''"
   ]
  },
  {
   "cell_type": "code",
   "execution_count": 23,
   "id": "026d579a",
   "metadata": {},
   "outputs": [
    {
     "name": "stdout",
     "output_type": "stream",
     "text": [
      "Executando query:\n",
      "('abobrinha', 'sem gluten,sem lactose,vegana,vegetariana')\n",
      "('calabresa', 'sem gluten,sem lactose')\n",
      "('massa', 'vegetariana,vegetariana,vegetariana')\n",
      "('massa sem gluten', 'sem gluten,sem lactose,vegana,vegetariana,sem gluten,sem lactose,vegana,vegetariana')\n",
      "('mussarela', 'sem gluten,vegetariana,sem gluten,vegetariana')\n",
      "('mussarela vegana', 'sem gluten,sem lactose,vegana,vegetariana')\n",
      "('picanha', 'sem gluten,sem lactose')\n"
     ]
    }
   ],
   "source": [
    "db(sql_ex5)"
   ]
  },
  {
   "cell_type": "markdown",
   "id": "88707d5e",
   "metadata": {},
   "source": [
    "**Exercício 6**: Construa o diagrama do modelo entidade-relacionamento correspondente ao diagrama do modelo relacional acima. Normalmente a ordem de construção das coisas é o contrário disso, mas aqui eu estou apenas explorando o conhecimento de vocês! Gere um arquivo PNG, JPG ou PDF com a figura resultante, deixe na pasta `img`, e altere a tag de imagem."
   ]
  },
  {
   "cell_type": "markdown",
   "id": "74228600",
   "metadata": {},
   "source": [
    "<div class=\"alert alert-success\">\n",
    "Edite na resposta o caminho para a imagem!\n",
    "    \n",
    "<img src=\"img/exemplo.png\">\n",
    "\n",
    "</div>"
   ]
  },
  {
   "cell_type": "code",
   "execution_count": null,
   "id": "477ffcdd",
   "metadata": {},
   "outputs": [],
   "source": []
  }
 ],
 "metadata": {
  "kernelspec": {
   "display_name": "Python 3 (ipykernel)",
   "language": "python",
   "name": "python3"
  },
  "language_info": {
   "codemirror_mode": {
    "name": "ipython",
    "version": 3
   },
   "file_extension": ".py",
   "mimetype": "text/x-python",
   "name": "python",
   "nbconvert_exporter": "python",
   "pygments_lexer": "ipython3",
   "version": "3.11.1"
  }
 },
 "nbformat": 4,
 "nbformat_minor": 5
}
