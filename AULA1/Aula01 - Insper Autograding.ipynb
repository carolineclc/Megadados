{
 "cells": [
  {
   "cell_type": "markdown",
   "id": "eccb9973",
   "metadata": {},
   "source": [
    "# Insper Autograding\n",
    "\n",
    "Siga os passos deste notebook para realizar a instalação da biblioteca de correção de exercícios nos notebooks da disciplina de Megadados!\n",
    "\n",
    "## Instalação\n",
    "\n",
    "Vamos instalar a biblioteca:"
   ]
  },
  {
   "cell_type": "code",
   "execution_count": 1,
   "id": "f8da2455",
   "metadata": {},
   "outputs": [
    {
     "name": "stderr",
     "output_type": "stream",
     "text": [
      "WARNING: Skipping insperautograder as it is not installed.\n"
     ]
    },
    {
     "name": "stdout",
     "output_type": "stream",
     "text": [
      "Collecting git+https://github.com/macielcalebe/insperautograding.git\n",
      "  Cloning https://github.com/macielcalebe/insperautograding.git to c:\\users\\carol\\appdata\\local\\temp\\pip-req-build-0nndw9ps\n",
      "  Resolved https://github.com/macielcalebe/insperautograding.git to commit 4a8520568b7d385f9dba29e6c359f43559603f6d\n",
      "  Installing build dependencies: started\n",
      "  Installing build dependencies: finished with status 'done'\n",
      "  Getting requirements to build wheel: started\n",
      "  Getting requirements to build wheel: finished with status 'done'\n",
      "  Preparing metadata (pyproject.toml): started\n",
      "  Preparing metadata (pyproject.toml): finished with status 'done'\n",
      "Collecting python-dotenv (from insperautograder==0.1.0)\n",
      "  Downloading python_dotenv-1.0.0-py3-none-any.whl (19 kB)\n",
      "Requirement already satisfied: requests in c:\\users\\carol\\appdata\\local\\programs\\python\\python311\\lib\\site-packages (from insperautograder==0.1.0) (2.31.0)\n",
      "Requirement already satisfied: ipython in c:\\users\\carol\\appdata\\local\\programs\\python\\python311\\lib\\site-packages (from insperautograder==0.1.0) (8.14.0)\n",
      "Collecting ipywidgets (from insperautograder==0.1.0)\n",
      "  Downloading ipywidgets-8.1.0-py3-none-any.whl (139 kB)\n",
      "                                              0.0/139.3 kB ? eta -:--:--\n",
      "     -------------------------------------- 139.3/139.3 kB 4.2 MB/s eta 0:00:00\n",
      "Requirement already satisfied: backcall in c:\\users\\carol\\appdata\\local\\programs\\python\\python311\\lib\\site-packages (from ipython->insperautograder==0.1.0) (0.2.0)\n",
      "Requirement already satisfied: decorator in c:\\users\\carol\\appdata\\local\\programs\\python\\python311\\lib\\site-packages (from ipython->insperautograder==0.1.0) (5.1.1)\n",
      "Requirement already satisfied: jedi>=0.16 in c:\\users\\carol\\appdata\\local\\programs\\python\\python311\\lib\\site-packages (from ipython->insperautograder==0.1.0) (0.19.0)\n",
      "Requirement already satisfied: matplotlib-inline in c:\\users\\carol\\appdata\\local\\programs\\python\\python311\\lib\\site-packages (from ipython->insperautograder==0.1.0) (0.1.6)\n",
      "Requirement already satisfied: pickleshare in c:\\users\\carol\\appdata\\local\\programs\\python\\python311\\lib\\site-packages (from ipython->insperautograder==0.1.0) (0.7.5)\n",
      "Requirement already satisfied: prompt-toolkit!=3.0.37,<3.1.0,>=3.0.30 in c:\\users\\carol\\appdata\\local\\programs\\python\\python311\\lib\\site-packages (from ipython->insperautograder==0.1.0) (3.0.39)\n",
      "Requirement already satisfied: pygments>=2.4.0 in c:\\users\\carol\\appdata\\local\\programs\\python\\python311\\lib\\site-packages (from ipython->insperautograder==0.1.0) (2.16.1)\n",
      "Requirement already satisfied: stack-data in c:\\users\\carol\\appdata\\local\\programs\\python\\python311\\lib\\site-packages (from ipython->insperautograder==0.1.0) (0.6.2)\n",
      "Requirement already satisfied: traitlets>=5 in c:\\users\\carol\\appdata\\local\\programs\\python\\python311\\lib\\site-packages (from ipython->insperautograder==0.1.0) (5.9.0)\n",
      "Requirement already satisfied: colorama in c:\\users\\carol\\appdata\\local\\programs\\python\\python311\\lib\\site-packages (from ipython->insperautograder==0.1.0) (0.4.6)\n",
      "Requirement already satisfied: comm>=0.1.3 in c:\\users\\carol\\appdata\\local\\programs\\python\\python311\\lib\\site-packages (from ipywidgets->insperautograder==0.1.0) (0.1.4)\n",
      "Collecting widgetsnbextension~=4.0.7 (from ipywidgets->insperautograder==0.1.0)\n",
      "  Downloading widgetsnbextension-4.0.8-py3-none-any.whl (2.3 MB)\n",
      "                                              0.0/2.3 MB ? eta -:--:--\n",
      "     ----                                     0.3/2.3 MB 5.7 MB/s eta 0:00:01\n",
      "     -------                                  0.5/2.3 MB 4.7 MB/s eta 0:00:01\n",
      "     -------------                            0.8/2.3 MB 5.5 MB/s eta 0:00:01\n",
      "     -------------                            0.8/2.3 MB 5.5 MB/s eta 0:00:01\n",
      "     -----------------                        1.0/2.3 MB 4.3 MB/s eta 0:00:01\n",
      "     -----------------------                  1.3/2.3 MB 4.7 MB/s eta 0:00:01\n",
      "     -----------------------------            1.7/2.3 MB 5.2 MB/s eta 0:00:01\n",
      "     ----------------------------------       2.0/2.3 MB 5.1 MB/s eta 0:00:01\n",
      "     ---------------------------------------  2.3/2.3 MB 5.4 MB/s eta 0:00:01\n",
      "     ---------------------------------------- 2.3/2.3 MB 5.0 MB/s eta 0:00:00\n",
      "Collecting jupyterlab-widgets~=3.0.7 (from ipywidgets->insperautograder==0.1.0)\n",
      "  Downloading jupyterlab_widgets-3.0.8-py3-none-any.whl (214 kB)\n",
      "                                              0.0/215.0 kB ? eta -:--:--\n",
      "     -------------------------------------- 215.0/215.0 kB 6.6 MB/s eta 0:00:00\n",
      "Requirement already satisfied: charset-normalizer<4,>=2 in c:\\users\\carol\\appdata\\local\\programs\\python\\python311\\lib\\site-packages (from requests->insperautograder==0.1.0) (3.2.0)\n",
      "Requirement already satisfied: idna<4,>=2.5 in c:\\users\\carol\\appdata\\local\\programs\\python\\python311\\lib\\site-packages (from requests->insperautograder==0.1.0) (3.4)\n",
      "Requirement already satisfied: urllib3<3,>=1.21.1 in c:\\users\\carol\\appdata\\local\\programs\\python\\python311\\lib\\site-packages (from requests->insperautograder==0.1.0) (2.0.4)\n",
      "Requirement already satisfied: certifi>=2017.4.17 in c:\\users\\carol\\appdata\\local\\programs\\python\\python311\\lib\\site-packages (from requests->insperautograder==0.1.0) (2023.7.22)\n",
      "Requirement already satisfied: parso<0.9.0,>=0.8.3 in c:\\users\\carol\\appdata\\local\\programs\\python\\python311\\lib\\site-packages (from jedi>=0.16->ipython->insperautograder==0.1.0) (0.8.3)\n",
      "Requirement already satisfied: wcwidth in c:\\users\\carol\\appdata\\local\\programs\\python\\python311\\lib\\site-packages (from prompt-toolkit!=3.0.37,<3.1.0,>=3.0.30->ipython->insperautograder==0.1.0) (0.2.6)\n",
      "Requirement already satisfied: executing>=1.2.0 in c:\\users\\carol\\appdata\\local\\programs\\python\\python311\\lib\\site-packages (from stack-data->ipython->insperautograder==0.1.0) (1.2.0)\n",
      "Requirement already satisfied: asttokens>=2.1.0 in c:\\users\\carol\\appdata\\local\\programs\\python\\python311\\lib\\site-packages (from stack-data->ipython->insperautograder==0.1.0) (2.2.1)\n",
      "Requirement already satisfied: pure-eval in c:\\users\\carol\\appdata\\local\\programs\\python\\python311\\lib\\site-packages (from stack-data->ipython->insperautograder==0.1.0) (0.2.2)\n",
      "Requirement already satisfied: six in c:\\users\\carol\\appdata\\local\\programs\\python\\python311\\lib\\site-packages (from asttokens>=2.1.0->stack-data->ipython->insperautograder==0.1.0) (1.16.0)\n",
      "Building wheels for collected packages: insperautograder\n",
      "  Building wheel for insperautograder (pyproject.toml): started\n",
      "  Building wheel for insperautograder (pyproject.toml): finished with status 'done'\n",
      "  Created wheel for insperautograder: filename=insperautograder-0.1.0-py3-none-any.whl size=3627 sha256=b709b0219e4812d88256ec6f7255393271bfaaea8c13d1a8bfa33b30cab701b4\n",
      "  Stored in directory: C:\\Users\\carol\\AppData\\Local\\Temp\\pip-ephem-wheel-cache-w14gzuj9\\wheels\\bb\\01\\cc\\7f397587bfedd6c633e2627496c45d5693aa959ee8237ead1f\n",
      "Successfully built insperautograder\n",
      "Installing collected packages: widgetsnbextension, python-dotenv, jupyterlab-widgets, ipywidgets, insperautograder\n",
      "Successfully installed insperautograder-0.1.0 ipywidgets-8.1.0 jupyterlab-widgets-3.0.8 python-dotenv-1.0.0 widgetsnbextension-4.0.8\n"
     ]
    },
    {
     "name": "stderr",
     "output_type": "stream",
     "text": [
      "  Running command git clone --filter=blob:none --quiet https://github.com/macielcalebe/insperautograding.git 'C:\\Users\\carol\\AppData\\Local\\Temp\\pip-req-build-0nndw9ps'\n",
      "\n",
      "[notice] A new release of pip is available: 23.1.2 -> 23.2.1\n",
      "[notice] To update, run: python.exe -m pip install --upgrade pip\n"
     ]
    }
   ],
   "source": [
    "!pip uninstall -y insperautograder\n",
    "!pip install git+https://github.com/macielcalebe/insperautograding.git"
   ]
  },
  {
   "cell_type": "markdown",
   "id": "2ae5f5f3",
   "metadata": {},
   "source": [
    "## Criar o `.env`\n",
    "\n",
    "Os arquivos `.env` são arquivos de configuração usados no desenvolvimento de software para armazenar variáveis de ambiente. **Variáveis de ambiente** são valores definidos **fora do código-fonte** e usados para configurar diferentes aspectos de um aplicativo, como strings de conexão de banco de dados, chaves de API e outras **informações confidenciais**.\n",
    "\n",
    "Arquivos `.env` **jamais** (EU DISSE JAMAAAAIS) devem ser enviados para o github, isto pode representar sérios riscos pois pode prover acesso indevidos, como:\n",
    "- O hacker acessa e apaga toda sua base de dados\n",
    "- O hacker usa sua chave de API da AWS para minerar criptomoedas ou enviar spam (pode gastar milhares de dólares em minutos ou horas)\n",
    "\n",
    "Vamos instalar a biblioteca"
   ]
  },
  {
   "cell_type": "code",
   "execution_count": 2,
   "id": "1e82ba3a",
   "metadata": {},
   "outputs": [
    {
     "name": "stdout",
     "output_type": "stream",
     "text": [
      "Requirement already satisfied: python-dotenv in c:\\users\\carol\\appdata\\local\\programs\\python\\python311\\lib\\site-packages (1.0.0)\n"
     ]
    },
    {
     "name": "stderr",
     "output_type": "stream",
     "text": [
      "\n",
      "[notice] A new release of pip is available: 23.1.2 -> 23.2.1\n",
      "[notice] To update, run: python.exe -m pip install --upgrade pip\n"
     ]
    }
   ],
   "source": [
    "!pip install python-dotenv"
   ]
  },
  {
   "cell_type": "markdown",
   "id": "19d99af9",
   "metadata": {},
   "source": [
    "e escrever um `.env` na pasta pai (supondo que você tem uma pasta para a disciplina e nela cria uma pasta por aula).\n",
    "\n",
    "<img src=\"https://megadados-insper.s3.us-east-2.amazonaws.com/img/env_local.png\">\n",
    "\n",
    "O comando abaixo já deve escrever no local adequado. Você também pode utilizar um editor de textos para criar o `.env`."
   ]
  },
  {
   "cell_type": "code",
   "execution_count": 3,
   "id": "06ddf3ec",
   "metadata": {},
   "outputs": [
    {
     "name": "stdout",
     "output_type": "stream",
     "text": [
      "Overwriting ../.env\n"
     ]
    }
   ],
   "source": [
    "%%writefile ../.env\n",
    "IAG_SERVER_URL=\"https://bigdata.insper-comp.com.br/iag\"\n",
    "IAG_SUBJECT=\"megadados\"\n",
    "IAG_OFFERING=\"23-2\"\n",
    "IAG_TOKEN=\"iagtok_xxxxxxxxxxxxxxxxxxxxxxxxxxxxxxxxxxxxxxx\""
   ]
  },
  {
   "cell_type": "markdown",
   "id": "fde705c2",
   "metadata": {},
   "source": [
    "Confira pelo navegador de arquivos se o `.env` foi gerado corretamente!\n",
    "\n",
    "Como uma segunda confirmação, vamos tentar ler o endereço do servidor:"
   ]
  },
  {
   "cell_type": "code",
   "execution_count": 4,
   "id": "f0fab0af",
   "metadata": {},
   "outputs": [
    {
     "name": "stdout",
     "output_type": "stream",
     "text": [
      "https://bigdata.insper-comp.com.br/iag\n"
     ]
    }
   ],
   "source": [
    "import os\n",
    "from dotenv import load_dotenv\n",
    "\n",
    "load_dotenv(override=True)\n",
    "\n",
    "# Se aparecer o mesmo conteúdo definido na variável no .env, então é sucesso!\n",
    "print(os.getenv('IAG_SERVER_URL'))"
   ]
  },
  {
   "cell_type": "markdown",
   "id": "86fb92f7",
   "metadata": {},
   "source": [
    "## Gerar um token\n",
    "\n",
    "Vamos fazer uma requisição para gerar um token que será utilizado para identificar você nos envios da disciplina.\n",
    "\n",
    "Caso algum import falha, faça `pip install`"
   ]
  },
  {
   "cell_type": "code",
   "execution_count": 10,
   "id": "6b279e82",
   "metadata": {},
   "outputs": [],
   "source": [
    "import insperautograder.token as iat\n",
    "import insperautograder.jupyter as iaj"
   ]
  },
  {
   "cell_type": "code",
   "execution_count": 11,
   "id": "05bbb306",
   "metadata": {},
   "outputs": [
    {
     "data": {
      "text/markdown": [
       "\"Sending token in background! Check your Insper E-mail!\""
      ],
      "text/plain": [
       "<IPython.core.display.Markdown object>"
      ]
     },
     "metadata": {},
     "output_type": "display_data"
    }
   ],
   "source": [
    "# Descomente as linhas abaixo!\n",
    "username = 'carolineclc' # Informe aqui seu usuário Insper ex: mariana5 (sem @al....)\n",
    "iat.get_new_token(username=username)"
   ]
  },
  {
   "cell_type": "markdown",
   "id": "843b7c66",
   "metadata": {},
   "source": [
    "Confira seu email. Copie o token e cole no arquivo `.env` gerado no passo anterior. Como o token é a única informação sensível no `.env`, ao invés de atualizar pelo jupyter notebook, abra em algum editor de textos.\n",
    "\n",
    "Após a edição, execute a próxima célula para atualizar as variáveis de ambiente:"
   ]
  },
  {
   "cell_type": "code",
   "execution_count": 12,
   "id": "fc14c654",
   "metadata": {},
   "outputs": [
    {
     "data": {
      "text/plain": [
       "True"
      ]
     },
     "execution_count": 12,
     "metadata": {},
     "output_type": "execute_result"
    }
   ],
   "source": [
    "load_dotenv(override=True)"
   ]
  },
  {
   "cell_type": "markdown",
   "id": "2bc4a562",
   "metadata": {},
   "source": [
    "## Testando a API!\n",
    "\n",
    "**Exercício exemplo**: Qual o nome desta disciplina?! Responda como string na variável `resp` (próxima célula).\n",
    "\n",
    "Considere que a seguinte resposta está correta, vamos fazer seu envio!"
   ]
  },
  {
   "cell_type": "code",
   "execution_count": 33,
   "id": "00349bb1",
   "metadata": {},
   "outputs": [],
   "source": [
    "resp = '''\n",
    " Megadados\n",
    "'''"
   ]
  },
  {
   "cell_type": "markdown",
   "id": "c62541f0",
   "metadata": {},
   "source": [
    "Para enviar, clique no botão:"
   ]
  },
  {
   "cell_type": "code",
   "execution_count": 34,
   "id": "74b1b637",
   "metadata": {},
   "outputs": [
    {
     "data": {
      "application/vnd.jupyter.widget-view+json": {
       "model_id": "0c24bdd879324a42862d91714591d78f",
       "version_major": 2,
       "version_minor": 0
      },
      "text/plain": [
       "interactive(children=(Button(description='Enviar ex01', style=ButtonStyle()), Output()), _dom_classes=('widget…"
      ]
     },
     "execution_count": 34,
     "metadata": {},
     "output_type": "execute_result"
    }
   ],
   "source": [
    "iaj.sender(answer='resp', task='newborn', question='ex01', answer_type='pyvar')"
   ]
  },
  {
   "cell_type": "markdown",
   "id": "c4e9ea47",
   "metadata": {},
   "source": [
    "Perceba que a query possui um erro. Faça a correção, e, após sua última modificação, faça o envio clicando novamente no botão de envio! Ele automaticamente irá ler a variável `sql` (pega o valor atual dela, definido na última vez que você rodou a célula) e enviar para o servidor de testes!"
   ]
  },
  {
   "cell_type": "markdown",
   "id": "29321d76",
   "metadata": {},
   "source": [
    "## Atividades e Notas\n",
    "\n",
    "Podemos utilizar as chamadas para recuperar as atividades disponíveis, prazos e notas obtidas:"
   ]
  },
  {
   "cell_type": "code",
   "execution_count": 35,
   "id": "f421d0b2",
   "metadata": {},
   "outputs": [
    {
     "data": {
      "text/markdown": [
       "|    | Atividade   | De                        | Até                       |\n",
       "|---:|:------------|:--------------------------|:--------------------------|\n",
       "|  0 | newborn     | 2023-08-08 03:00:00+00:00 | 2023-08-16 02:59:59+00:00 |"
      ],
      "text/plain": [
       "<IPython.core.display.Markdown object>"
      ]
     },
     "metadata": {},
     "output_type": "display_data"
    }
   ],
   "source": [
    "iaj.tasks()"
   ]
  },
  {
   "cell_type": "code",
   "execution_count": 36,
   "id": "3f2e0cf6",
   "metadata": {},
   "outputs": [
    {
     "data": {
      "text/markdown": [
       "|    | Atividade   | Exercício   |   Peso |   Nota |\n",
       "|---:|:------------|:------------|-------:|-------:|\n",
       "|  0 | newborn     | ex01        |      1 |      0 |"
      ],
      "text/plain": [
       "<IPython.core.display.Markdown object>"
      ]
     },
     "metadata": {},
     "output_type": "display_data"
    }
   ],
   "source": [
    "iaj.grades(task='newborn')"
   ]
  },
  {
   "cell_type": "code",
   "execution_count": 37,
   "id": "3367239a",
   "metadata": {},
   "outputs": [
    {
     "data": {
      "text/markdown": [
       "|    | Tarefa   |   Nota |\n",
       "|---:|:---------|-------:|\n",
       "|  0 | newborn  |      0 |"
      ],
      "text/plain": [
       "<IPython.core.display.Markdown object>"
      ]
     },
     "metadata": {},
     "output_type": "display_data"
    }
   ],
   "source": [
    "iaj.grades(by='TASK', task='newborn')"
   ]
  },
  {
   "cell_type": "code",
   "execution_count": null,
   "id": "c10917be-b54a-48f5-acca-ace1db675102",
   "metadata": {},
   "outputs": [],
   "source": []
  }
 ],
 "metadata": {
  "kernelspec": {
   "display_name": "Python 3 (ipykernel)",
   "language": "python",
   "name": "python3"
  },
  "language_info": {
   "codemirror_mode": {
    "name": "ipython",
    "version": 3
   },
   "file_extension": ".py",
   "mimetype": "text/x-python",
   "name": "python",
   "nbconvert_exporter": "python",
   "pygments_lexer": "ipython3",
   "version": "3.11.4"
  }
 },
 "nbformat": 4,
 "nbformat_minor": 5
}
